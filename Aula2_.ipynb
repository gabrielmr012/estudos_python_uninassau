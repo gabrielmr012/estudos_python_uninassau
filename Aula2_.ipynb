{
 "cells": [
  {
   "cell_type": "code",
   "execution_count": null,
   "metadata": {},
   "outputs": [],
   "source": [
    "# este simbolo serve para criar um comentário\n",
    "print \n",
    "# função mais utilizada serve para por ums telespectadr mostrar ao usiúatio na tela\n",
    "print('Meu nome E Julia') \n",
    "type = C\n",
    "= # levaum wassssd\n",
    "C = 0 True\n",
    "print(type C)\n",
    "\n",
    "\n",
    "\n",
    "\n",
    "\n",
    "\n",
    "\n",
    "\n",
    "\n",
    "\n",
    "\n"
   ]
  },
  {
   "cell_type": "code",
   "execution_count": null,
   "metadata": {},
   "outputs": [],
   "source": []
  }
 ],
 "metadata": {
  "language_info": {
   "name": "python"
  },
  "orig_nbformat": 4
 },
 "nbformat": 4,
 "nbformat_minor": 2
}
